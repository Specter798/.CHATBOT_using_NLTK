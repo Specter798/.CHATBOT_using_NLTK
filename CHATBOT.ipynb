{
 "cells": [
  {
   "cell_type": "markdown",
   "id": "2dc21981",
   "metadata": {},
   "source": [
    "# Building a Simple Chatbot from Scratch in Python (using NLTK)\n",
    "\n",
    "![Alt text](https://cdn-images-1.medium.com/max/800/1*pPcVfZ7i-gLMabUol3zezA.gif)\n",
    "\n",
    "History of chatbots dates back to 1966 when a computer program called ELIZA was invented by Weizenbaum. It imitated the language of a psychotherapist from only 200 lines of code. You can still converse with it here: [Eliza](http://psych.fullerton.edu/mbirnbaum/psych101/Eliza.htm?utm_source=ubisend.com&utm_medium=blog-link&utm_campaign=ubisend). \n",
    "\n",
    "On similar lines let's create a very basic chatbot utlising the Python's NLTK library.It's a very simple bot with hardly any cognitive skills,but still a good way to get into NLP and get to know about chatbots.\n",
    "\n",
    "For detailed analysis, please see the accompanying blog titled:**[Building a Simple Chatbot in Python (using NLTK](https://medium.com/analytics-vidhya/building-a-simple-chatbot-in-python-using-nltk-7c8c8215ac6e)\n"
   ]
  },
  {
   "cell_type": "markdown",
   "id": "17d7e675",
   "metadata": {},
   "source": [
    "# NLP\n",
    "NLP is a way for computers to analyze, understand, and derive meaning from human language in a smart and useful way. By utilizing NLP, developers can organize and structure knowledge to perform tasks such as automatic summarization, translation, named entity recognition, relationship extraction, sentiment analysis, speech recognition, and topic segmentation."
   ]
  },
  {
   "cell_type": "markdown",
   "id": "103ad0df",
   "metadata": {},
   "source": [
    "# Import necessary libraries"
   ]
  },
  {
   "cell_type": "code",
   "execution_count": 11,
   "id": "94bbc0d9",
   "metadata": {},
   "outputs": [],
   "source": [
    "import io\n",
    "import random\n",
    "import string # to process standard python strings\n",
    "import warnings\n",
    "import numpy as np\n",
    "from sklearn.feature_extraction.text import TfidfVectorizer\n",
    "from sklearn.metrics.pairwise import cosine_similarity\n",
    "import warnings\n",
    "warnings.filterwarnings('ignore')"
   ]
  },
  {
   "cell_type": "markdown",
   "id": "254c33d8",
   "metadata": {},
   "source": [
    "# Downloading and installing NLTK\n",
    "NLTK(Natural Language Toolkit) is a leading platform for building Python programs to work with human language data. It provides easy-to-use interfaces to over 50 corpora and lexical resources such as WordNet, along with a suite of text processing libraries for classification, tokenization, stemming, tagging, parsing, and semantic reasoning, wrappers for industrial-strength NLP libraries.\n",
    "\n",
    "Natural Language Processing with Python provides a practical introduction to programming for language processing.\n",
    "\n",
    "For platform-specific instructions, read here"
   ]
  },
  {
   "cell_type": "code",
   "execution_count": 12,
   "id": "dedeb777",
   "metadata": {},
   "outputs": [
    {
     "name": "stdout",
     "output_type": "stream",
     "text": [
      "Collecting nltk\n",
      "  Downloading nltk-3.8.1-py3-none-any.whl (1.5 MB)\n",
      "     ---------------------------------------- 0.0/1.5 MB ? eta -:--:--\n",
      "     ---- ----------------------------------- 0.2/1.5 MB 4.8 MB/s eta 0:00:01\n",
      "     -------- ------------------------------- 0.3/1.5 MB 3.5 MB/s eta 0:00:01\n",
      "     -------------- ------------------------- 0.5/1.5 MB 3.8 MB/s eta 0:00:01\n",
      "     ----------------- ---------------------- 0.6/1.5 MB 3.7 MB/s eta 0:00:01\n",
      "     ---------------------- ----------------- 0.8/1.5 MB 3.6 MB/s eta 0:00:01\n",
      "     -------------------------- ------------- 1.0/1.5 MB 3.8 MB/s eta 0:00:01\n",
      "     --------------------------------- ------ 1.2/1.5 MB 3.8 MB/s eta 0:00:01\n",
      "     ------------------------------------ --- 1.4/1.5 MB 3.6 MB/s eta 0:00:01\n",
      "     ---------------------------------------  1.5/1.5 MB 3.7 MB/s eta 0:00:01\n",
      "     ---------------------------------------  1.5/1.5 MB 3.7 MB/s eta 0:00:01\n",
      "     ---------------------------------------  1.5/1.5 MB 3.7 MB/s eta 0:00:01\n",
      "     ---------------------------------------- 1.5/1.5 MB 2.7 MB/s eta 0:00:00\n",
      "Requirement already satisfied: joblib in c:\\users\\lenovo\\anaconda3\\envs\\pandas\\lib\\site-packages (from nltk) (1.1.1)\n",
      "Requirement already satisfied: click in c:\\users\\lenovo\\anaconda3\\envs\\pandas\\lib\\site-packages (from nltk) (8.0.4)\n",
      "Collecting regex>=2021.8.3\n",
      "  Downloading regex-2023.6.3-cp310-cp310-win_amd64.whl (268 kB)\n",
      "     ---------------------------------------- 0.0/268.0 kB ? eta -:--:--\n",
      "     ----------- --------------------------- 81.9/268.0 kB 4.5 MB/s eta 0:00:01\n",
      "     ----------------------- -------------- 163.8/268.0 kB 2.0 MB/s eta 0:00:01\n",
      "     --------------------------- ---------- 194.6/268.0 kB 1.7 MB/s eta 0:00:01\n",
      "     -------------------------------------  266.2/268.0 kB 1.8 MB/s eta 0:00:01\n",
      "     -------------------------------------  266.2/268.0 kB 1.8 MB/s eta 0:00:01\n",
      "     -------------------------------------  266.2/268.0 kB 1.8 MB/s eta 0:00:01\n",
      "     -------------------------------------  266.2/268.0 kB 1.8 MB/s eta 0:00:01\n",
      "     -------------------------------------  266.2/268.0 kB 1.8 MB/s eta 0:00:01\n",
      "     -------------------------------------  266.2/268.0 kB 1.8 MB/s eta 0:00:01\n",
      "     -------------------------------------  266.2/268.0 kB 1.8 MB/s eta 0:00:01\n",
      "     -------------------------------------  266.2/268.0 kB 1.8 MB/s eta 0:00:01\n",
      "     -------------------------------------  266.2/268.0 kB 1.8 MB/s eta 0:00:01\n",
      "     -------------------------------------  266.2/268.0 kB 1.8 MB/s eta 0:00:01\n",
      "     -------------------------------------  266.2/268.0 kB 1.8 MB/s eta 0:00:01\n",
      "     -------------------------------------  266.2/268.0 kB 1.8 MB/s eta 0:00:01\n",
      "     -------------------------------------  266.2/268.0 kB 1.8 MB/s eta 0:00:01\n",
      "     -------------------------------------  266.2/268.0 kB 1.8 MB/s eta 0:00:01\n",
      "     -------------------------------------  266.2/268.0 kB 1.8 MB/s eta 0:00:01\n",
      "     -------------------------------------  266.2/268.0 kB 1.8 MB/s eta 0:00:01\n",
      "     -------------------------------------  266.2/268.0 kB 1.8 MB/s eta 0:00:01\n",
      "     -------------------------------------  266.2/268.0 kB 1.8 MB/s eta 0:00:01\n",
      "     -------------------------------------  266.2/268.0 kB 1.8 MB/s eta 0:00:01\n",
      "     ------------------------------------ 268.0/268.0 kB 239.1 kB/s eta 0:00:00\n",
      "Requirement already satisfied: tqdm in c:\\users\\lenovo\\anaconda3\\envs\\pandas\\lib\\site-packages (from nltk) (4.65.0)\n",
      "Requirement already satisfied: colorama in c:\\users\\lenovo\\anaconda3\\envs\\pandas\\lib\\site-packages (from click->nltk) (0.4.6)\n",
      "Installing collected packages: regex, nltk\n",
      "Successfully installed nltk-3.8.1 regex-2023.6.3\n",
      "Note: you may need to restart the kernel to use updated packages.\n"
     ]
    }
   ],
   "source": [
    "pip install nltk"
   ]
  },
  {
   "cell_type": "markdown",
   "id": "80a615b2",
   "metadata": {},
   "source": [
    "# Installing NLTK Packages"
   ]
  },
  {
   "cell_type": "code",
   "execution_count": 13,
   "id": "ea7271f3",
   "metadata": {},
   "outputs": [
    {
     "data": {
      "text/plain": [
       "True"
      ]
     },
     "execution_count": 13,
     "metadata": {},
     "output_type": "execute_result"
    }
   ],
   "source": [
    "import nltk\n",
    "from nltk.stem import WordNetLemmatizer\n",
    "nltk.download('popular', quiet=True) # for downloading packages\n",
    "#nltk.download('punkt') # first-time use only\n",
    "#nltk.download('wordnet') # first-time use only"
   ]
  },
  {
   "cell_type": "markdown",
   "id": "23630f8a",
   "metadata": {},
   "source": [
    "# Reading in the corpus"
   ]
  },
  {
   "cell_type": "code",
   "execution_count": 14,
   "id": "ed9c2b0c",
   "metadata": {},
   "outputs": [],
   "source": [
    "f=open('chatbot.txt','r',errors = 'ignore')\n",
    "raw=f.read()\n",
    "raw = raw.lower()# converts to lowercase"
   ]
  },
  {
   "cell_type": "markdown",
   "id": "862a6c0f",
   "metadata": {},
   "source": [
    "The main issue with text data is that it is all in text format (strings). However, the Machine learning algorithms need some sort of numerical feature vector in order to perform the task. So before we start with any NLP project we need to pre-process it to make it ideal for working. Basic text pre-processing includes:\n",
    "\n",
    "Converting the entire text into uppercase or lowercase, so that the algorithm does not treat the same words in different cases as different\n",
    "\n",
    "Tokenization: Tokenization is just the term used to describe the process of converting the normal text strings into a list of tokens i.e words that we actually want. Sentence tokenizer can be used to find the list of sentences and Word tokenizer can be used to find the list of words in strings.\n",
    "\n",
    "The NLTK data package includes a pre-trained Punkt tokenizer for English.\n",
    "\n",
    "Removing Noise i.e everything that isn’t in a standard number or letter.\n",
    "Removing the Stop words. Sometimes, some extremely common words which would appear to be of little value in helping select documents matching a user need are excluded from the vocabulary entirely. These words are called stop words\n",
    "Stemming: Stemming is the process of reducing inflected (or sometimes derived) words to their stem, base or root form — generally a written word form. Example if we were to stem the following words: “Stems”, “Stemming”, “Stemmed”, “and Stemtization”, the result would be a single word “stem”.\n",
    "Lemmatization: A slight variant of stemming is lemmatization. The major difference between these is, that, stemming can often create non-existent words, whereas lemmas are actual words. So, your root stem, meaning the word you end up with, is not something you can just look up in a dictionary, but you can look up a lemma. Examples of Lemmatization are that “run” is a base form for words like “running” or “ran” or that the word “better” and “good” are in the same lemma so they are considered the same."
   ]
  },
  {
   "cell_type": "markdown",
   "id": "6a6d9645",
   "metadata": {},
   "source": [
    "# Tokenisation"
   ]
  },
  {
   "cell_type": "code",
   "execution_count": 16,
   "id": "bfc950c0",
   "metadata": {},
   "outputs": [],
   "source": [
    "sent_tokens = nltk.sent_tokenize(raw)# converts to list of sentences \n",
    "word_tokens = nltk.word_tokenize(raw)# converts to list of words"
   ]
  },
  {
   "cell_type": "markdown",
   "id": "2320c184",
   "metadata": {},
   "source": [
    "# Preprocessing"
   ]
  },
  {
   "cell_type": "code",
   "execution_count": 17,
   "id": "753bc274",
   "metadata": {},
   "outputs": [],
   "source": [
    "lemmer = nltk.stem.WordNetLemmatizer()\n",
    "#WordNet is a semantically-oriented dictionary of English included in NLTK.\n",
    "def LemTokens(tokens):\n",
    "    return [lemmer.lemmatize(token) for token in tokens]\n",
    "remove_punct_dict = dict((ord(punct), None) for punct in string.punctuation)\n",
    "\n",
    "def LemNormalize(text):\n",
    "    return LemTokens(nltk.word_tokenize(text.lower().translate(remove_punct_dict)))"
   ]
  },
  {
   "cell_type": "markdown",
   "id": "f956b80d",
   "metadata": {},
   "source": [
    "# Keyword matching"
   ]
  },
  {
   "cell_type": "code",
   "execution_count": 18,
   "id": "d8f75848",
   "metadata": {},
   "outputs": [],
   "source": [
    "GREETING_INPUTS = (\"hello\", \"hi\", \"greetings\", \"sup\", \"what's up\",\"hey\",)\n",
    "GREETING_RESPONSES = [\"hi\", \"hey\", \"*nods*\", \"hi there\", \"hello\", \"I am glad! You are talking to me\"]\n",
    "def greeting(sentence):\n",
    " \n",
    "    for word in sentence.split():\n",
    "        if word.lower() in GREETING_INPUTS:\n",
    "            return random.choice(GREETING_RESPONSES)"
   ]
  },
  {
   "cell_type": "markdown",
   "id": "2c5dc518",
   "metadata": {},
   "source": [
    "# Generating Response"
   ]
  },
  {
   "cell_type": "code",
   "execution_count": 19,
   "id": "f81d5613",
   "metadata": {},
   "outputs": [],
   "source": [
    "def response(user_response):\n",
    "    robo_response=''\n",
    "    sent_tokens.append(user_response)\n",
    "    TfidfVec = TfidfVectorizer(tokenizer=LemNormalize, stop_words='english')\n",
    "    tfidf = TfidfVec.fit_transform(sent_tokens)\n",
    "    vals = cosine_similarity(tfidf[-1], tfidf)\n",
    "    idx=vals.argsort()[0][-2]\n",
    "    flat = vals.flatten()\n",
    "    flat.sort()\n",
    "    req_tfidf = flat[-2]\n",
    "    if(req_tfidf==0):\n",
    "        robo_response=robo_response+\"I am sorry! I don't understand you\"\n",
    "        return robo_response\n",
    "    else:\n",
    "        robo_response = robo_response+sent_tokens[idx]\n",
    "        return robo_response\n"
   ]
  },
  {
   "cell_type": "markdown",
   "id": "873adeb3",
   "metadata": {},
   "source": [
    "Finally, we will feed the lines that we want our bot to say while starting and ending a conversation depending upon user’s input."
   ]
  },
  {
   "cell_type": "code",
   "execution_count": 21,
   "id": "10fa6c85",
   "metadata": {},
   "outputs": [
    {
     "name": "stdout",
     "output_type": "stream",
     "text": [
      "ROBO: My name is Robo. I will answer your queries about Chatbots. If you want to exit, type Bye!\n",
      "yo\n",
      "ROBO: I am sorry! I don't understand you\n",
      "hey\n",
      "ROBO: *nods*\n",
      "hi\n",
      "ROBO: hi\n",
      "hello\n",
      "ROBO: hey\n",
      "bye\n",
      "ROBO: Bye! take care..\n"
     ]
    }
   ],
   "source": [
    "flag=True\n",
    "print(\"ROBO: My name is Robo. I will answer your queries about Chatbots. If you want to exit, type Bye!\")\n",
    "while(flag==True):\n",
    "    user_response = input()\n",
    "    user_response=user_response.lower()\n",
    "    if(user_response!='bye'):\n",
    "        if(user_response=='thanks' or user_response=='thank you' ):\n",
    "            flag=False\n",
    "            print(\"ROBO: You are welcome..\")\n",
    "        else:\n",
    "            if(greeting(user_response)!=None):\n",
    "                print(\"ROBO: \"+greeting(user_response))\n",
    "            else:\n",
    "                print(\"ROBO: \",end=\"\")\n",
    "                print(response(user_response))\n",
    "                sent_tokens.remove(user_response)\n",
    "    else:\n",
    "        flag=False\n",
    "        print(\"ROBO: Bye! take care..\")"
   ]
  },
  {
   "cell_type": "code",
   "execution_count": null,
   "id": "ea7b9884",
   "metadata": {},
   "outputs": [],
   "source": []
  }
 ],
 "metadata": {
  "kernelspec": {
   "display_name": "Python 3 (ipykernel)",
   "language": "python",
   "name": "python3"
  },
  "language_info": {
   "codemirror_mode": {
    "name": "ipython",
    "version": 3
   },
   "file_extension": ".py",
   "mimetype": "text/x-python",
   "name": "python",
   "nbconvert_exporter": "python",
   "pygments_lexer": "ipython3",
   "version": "3.10.11"
  }
 },
 "nbformat": 4,
 "nbformat_minor": 5
}
